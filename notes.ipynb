{
 "cells": [
  {
   "cell_type": "code",
   "execution_count": 30,
   "metadata": {},
   "outputs": [
    {
     "name": "stdout",
     "output_type": "stream",
     "text": [
      "1.120.060 15,000 True\n"
     ]
    }
   ],
   "source": [
    "from bs4 import BeautifulSoup\n",
    "from selenium import webdriver\n",
    "driver = webdriver.Safari()\n",
    "\n",
    "url = \"https://www.brankaslm.com/antam/index\"\n",
    "driver.get(url)\n",
    "html = driver.page_source\n",
    "\n",
    "soup = BeautifulSoup(html, \"html.parser\")\n",
    "\n",
    "table = soup.find(\"table\")\n",
    "\n",
    "# get price\n",
    "td = table.find(\"td\", {\"class\": \"text-right\"})\n",
    "fullString = td.getText().split('\\n')\n",
    "price = fullString[1].strip()\n",
    "diffPrice = fullString[2].strip()\n",
    "\n",
    "# check up/down\n",
    "arrow = td.find(\"i\", {\"class\": \"fa fa-caret-up\"})\n",
    "\n",
    "driver.quit()\n",
    "\n",
    "print(price, diffPrice, arrow != None)"
   ]
  },
  {
   "cell_type": "code",
   "execution_count": 4,
   "metadata": {},
   "outputs": [
    {
     "data": {
      "text/plain": [
       "(221,\n",
       " b'2.0.0 closing connection l12-20020a170903120c00b001db66f3748fsm10518409plh.182 - gsmtp')"
      ]
     },
     "execution_count": 4,
     "metadata": {},
     "output_type": "execute_result"
    }
   ],
   "source": [
    "# https://www.geeksforgeeks.org/send-mail-gmail-account-using-python/\n",
    "import smtplib\n",
    "from email.message import EmailMessage\n",
    "\n",
    "# creates SMTP session\n",
    "s = smtplib.SMTP('smtp.gmail.com', 587)\n",
    "\n",
    "# start TLS for security\n",
    "s.starttls()\n",
    "\n",
    "# Authentication\n",
    "s.login(\"youdant@gmail.com\", \"mhij klyz msau mslr\")\n",
    "\n",
    "# message to be sent\n",
    "msg = EmailMessage()\n",
    "msg['Subject'] = \"Testing\"\n",
    "msg['From'] = \"youdant@gmail.com\"\n",
    "msg['To'] = \"yudanto.testbench@gmail.com\"\n",
    "msg.set_content(\"hello world\")\n",
    "\n",
    "# sending the mail\n",
    "s.send_message(msg)\n",
    "\n",
    "# terminating the session\n",
    "s.quit()\n"
   ]
  },
  {
   "cell_type": "code",
   "execution_count": null,
   "metadata": {},
   "outputs": [],
   "source": [
    "import datetime \n",
    "\n",
    "now = datetime.datetime.now()\n",
    "print(\"The current time is:\", now)"
   ]
  }
 ],
 "metadata": {
  "kernelspec": {
   "display_name": "base",
   "language": "python",
   "name": "python3"
  },
  "language_info": {
   "codemirror_mode": {
    "name": "ipython",
    "version": 3
   },
   "file_extension": ".py",
   "mimetype": "text/x-python",
   "name": "python",
   "nbconvert_exporter": "python",
   "pygments_lexer": "ipython3",
   "version": "3.11.5"
  }
 },
 "nbformat": 4,
 "nbformat_minor": 2
}
